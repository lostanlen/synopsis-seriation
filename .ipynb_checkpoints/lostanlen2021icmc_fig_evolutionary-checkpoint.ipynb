{
 "cells": [
  {
   "cell_type": "code",
   "execution_count": 5,
   "metadata": {},
   "outputs": [],
   "source": [
    "import os\n",
    "trials = range(100)\n",
    "trial_strs = [\n",
    "    \"permutations_trial\" + str(trial).zfill(3)\n",
    "    for trial in trials\n",
    "]\n",
    "trial_objectives = []\n",
    "\n",
    "for trial_str in trial_strs:\n",
    "    trial_dir = os.path.join(\n",
    "        \"/Users/vl238/synopsis_seriation_data/permutations\",\n",
    "        trial_str\n",
    "    )\n",
    "    objectives = []\n",
    "    mats = os.listdir(trial_dir)\n",
    "    for mat in mats:\n",
    "        objectives.append(\n",
    "            float(sorted(mats)[-1][-14:-4]))\n",
    "    trial_objectives.append(np.array(objectives))\n",
    "    \n",
    "trial_objectives"
   ]
  },
  {
   "cell_type": "code",
   "execution_count": 3,
   "metadata": {},
   "outputs": [
    {
     "data": {
      "text/plain": [
       "(array([2., 2., 2., 1., 0., 0., 0., 0., 1., 2., 1., 2., 0., 1., 3., 5., 2.,\n",
       "        2., 1., 5., 3., 3., 3., 2., 5., 2., 4., 3., 1., 4., 5., 5., 5., 2.,\n",
       "        3., 1., 4., 3., 3., 1., 0., 1., 2., 0., 1., 0., 0., 1., 0., 1.]),\n",
       " array([87880521.  , 88022173.48, 88163825.96, 88305478.44, 88447130.92,\n",
       "        88588783.4 , 88730435.88, 88872088.36, 89013740.84, 89155393.32,\n",
       "        89297045.8 , 89438698.28, 89580350.76, 89722003.24, 89863655.72,\n",
       "        90005308.2 , 90146960.68, 90288613.16, 90430265.64, 90571918.12,\n",
       "        90713570.6 , 90855223.08, 90996875.56, 91138528.04, 91280180.52,\n",
       "        91421833.  , 91563485.48, 91705137.96, 91846790.44, 91988442.92,\n",
       "        92130095.4 , 92271747.88, 92413400.36, 92555052.84, 92696705.32,\n",
       "        92838357.8 , 92980010.28, 93121662.76, 93263315.24, 93404967.72,\n",
       "        93546620.2 , 93688272.68, 93829925.16, 93971577.64, 94113230.12,\n",
       "        94254882.6 , 94396535.08, 94538187.56, 94679840.04, 94821492.52,\n",
       "        94963145.  ]),\n",
       " <BarContainer object of 50 artists>)"
      ]
     },
     "execution_count": 3,
     "metadata": {},
     "output_type": "execute_result"
    },
    {
     "data": {
      "image/png": "[encoded data removed]",
      "text/plain": [
       "<Figure size 432x288 with 1 Axes>"
      ]
     },
     "metadata": {
      "needs_background": "light"
     },
     "output_type": "display_data"
    }
   ],
   "source": [
    "import matplotlib\n",
    "%matplotlib inline\n",
    "from matplotlib import pyplot as plt\n",
    "\n",
    "plt.hist(objectives, bins=50)"
   ]
  },
  {
   "cell_type": "code",
   "execution_count": 4,
   "metadata": {},
   "outputs": [
    {
     "data": {
      "text/plain": [
       "[87880521.0,\n",
       " 89496289.0,\n",
       " 92521011.0,\n",
       " 91397517.0,\n",
       " 90113999.0,\n",
       " 92342566.0,\n",
       " 92765767.0,\n",
       " 92087254.0,\n",
       " 92147021.0,\n",
       " 92159446.0,\n",
       " 93235230.0,\n",
       " 94963145.0,\n",
       " 93014002.0,\n",
       " 92616949.0,\n",
       " 93371790.0,\n",
       " 91777414.0,\n",
       " 93121328.0,\n",
       " 89950760.0,\n",
       " 92364878.0,\n",
       " 90576111.0,\n",
       " 91472129.0,\n",
       " 90020934.0,\n",
       " 88137405.0,\n",
       " 92106171.0,\n",
       " 90303794.0,\n",
       " 90086251.0,\n",
       " 90904881.0,\n",
       " 92160641.0,\n",
       " 90658276.0,\n",
       " 90069276.0,\n",
       " 92556691.0,\n",
       " 92416434.0,\n",
       " 89207187.0,\n",
       " 92013954.0,\n",
       " 94587453.0,\n",
       " 91682248.0,\n",
       " 91064771.0,\n",
       " 87907600.0,\n",
       " 93389185.0,\n",
       " 90742012.0,\n",
       " 93885688.0,\n",
       " 90706854.0,\n",
       " 91683989.0,\n",
       " 92519594.0,\n",
       " 92708206.0,\n",
       " 93158851.0,\n",
       " 90177354.0,\n",
       " 93762119.0,\n",
       " 93458555.0,\n",
       " 94162459.0,\n",
       " 89393617.0,\n",
       " 91451304.0,\n",
       " 88241973.0,\n",
       " 90065963.0,\n",
       " 90948038.0,\n",
       " 91987249.0,\n",
       " 91174528.0,\n",
       " 89742060.0,\n",
       " 90787459.0,\n",
       " 90633234.0,\n",
       " 93339084.0,\n",
       " 92156185.0,\n",
       " 91348364.0,\n",
       " 91665636.0,\n",
       " 91303584.0,\n",
       " 89023239.0,\n",
       " 92348105.0,\n",
       " 90596413.0,\n",
       " 93126421.0,\n",
       " 92429747.0,\n",
       " 90871512.0,\n",
       " 90157906.0,\n",
       " 91734998.0,\n",
       " 92747952.0,\n",
       " 91084292.0,\n",
       " 93964194.0,\n",
       " 91290244.0,\n",
       " 88285118.0,\n",
       " 88419282.0,\n",
       " 90726806.0,\n",
       " 91150961.0,\n",
       " 88027999.0,\n",
       " 89166964.0,\n",
       " 93012140.0,\n",
       " 91664696.0,\n",
       " 92406253.0,\n",
       " 91129815.0,\n",
       " 92317784.0,\n",
       " 90428691.0,\n",
       " 93098953.0,\n",
       " 90003724.0,\n",
       " 92122863.0,\n",
       " 92878263.0,\n",
       " 92192599.0,\n",
       " 90490353.0,\n",
       " 89907522.0,\n",
       " 92438147.0,\n",
       " 91351860.0,\n",
       " 91820008.0,\n",
       " 89534010.0]"
      ]
     },
     "execution_count": 4,
     "metadata": {},
     "output_type": "execute_result"
    }
   ],
   "source": [
    "objectives"
   ]
  },
  {
   "cell_type": "markdown",
   "metadata": {},
   "source": [
    "mats"
   ]
  },
  {
   "cell_type": "code",
   "execution_count": 32,
   "metadata": {},
   "outputs": [
    {
     "data": {
      "text/plain": [
       "[<matplotlib.lines.Line2D at 0x7fc9fe2cb150>]"
      ]
     },
     "execution_count": 32,
     "metadata": {},
     "output_type": "execute_result"
    },
    {
     "data": {
      "image/png": "[encoded data removed]",
      "text/plain": [
       "<Figure size 432x288 with 1 Axes>"
      ]
     },
     "metadata": {
      "needs_background": "light"
     },
     "output_type": "display_data"
    }
   ],
   "source": [
    "plt.plot(np.sort(objectives), 'o')"
   ]
  },
  {
   "cell_type": "code",
   "execution_count": 33,
   "metadata": {},
   "outputs": [
    {
     "data": {
      "text/plain": [
       "[88058886.0,\n",
       " 89793606.0,\n",
       " 92706640.0,\n",
       " 91780883.0,\n",
       " 90519793.0,\n",
       " 92342566.0,\n",
       " 93160279.0,\n",
       " 93057013.0,\n",
       " 92681458.0,\n",
       " 92380662.0,\n",
       " 93388467.0,\n",
       " 95115079.0,\n",
       " 93310472.0,\n",
       " 93148882.0,\n",
       " 93371790.0,\n",
       " 92046844.0,\n",
       " 93121328.0,\n",
       " 90911869.0,\n",
       " 92556381.0,\n",
       " 90729732.0,\n",
       " 91664702.0,\n",
       " 90220086.0,\n",
       " 88175842.0,\n",
       " 92106171.0,\n",
       " 91034544.0,\n",
       " 90594910.0,\n",
       " 91744523.0,\n",
       " 92160641.0,\n",
       " 90658276.0,\n",
       " 90108761.0,\n",
       " 92556691.0,\n",
       " 93008109.0,\n",
       " 89241545.0,\n",
       " 92400229.0,\n",
       " 95098935.0,\n",
       " 92082522.0,\n",
       " 91120451.0,\n",
       " 88022099.0,\n",
       " 93480007.0,\n",
       " 90826755.0,\n",
       " 93932715.0,\n",
       " 90929556.0,\n",
       " 92167673.0,\n",
       " 93083118.0,\n",
       " 93242473.0,\n",
       " 93347607.0,\n",
       " 90591406.0,\n",
       " 93938946.0,\n",
       " 94070531.0,\n",
       " 94202062.0,\n",
       " 89415189.0,\n",
       " 91860535.0,\n",
       " 88458627.0,\n",
       " 90529959.0,\n",
       " 90982693.0,\n",
       " 93151992.0,\n",
       " 92019561.0,\n",
       " 90096776.0,\n",
       " 91000623.0,\n",
       " 91655326.0,\n",
       " 93530966.0,\n",
       " 92302311.0,\n",
       " 91488666.0,\n",
       " 92417418.0,\n",
       " 91529772.0,\n",
       " 89453546.0,\n",
       " 92767893.0,\n",
       " 90698698.0,\n",
       " 93513045.0,\n",
       " 92576269.0,\n",
       " 91088463.0,\n",
       " 90467392.0,\n",
       " 91734998.0,\n",
       " 92830865.0,\n",
       " 91148650.0,\n",
       " 94315082.0,\n",
       " 91390721.0,\n",
       " 88296490.0,\n",
       " 89634378.0,\n",
       " 90847766.0,\n",
       " 91259392.0,\n",
       " 88027999.0,\n",
       " 89368245.0,\n",
       " 93599903.0,\n",
       " 91671099.0,\n",
       " 92911335.0,\n",
       " 91129815.0,\n",
       " 92523064.0,\n",
       " 90584660.0,\n",
       " 93289231.0,\n",
       " 90347432.0,\n",
       " 92122863.0,\n",
       " 93409396.0,\n",
       " 92319091.0,\n",
       " 90547015.0,\n",
       " 89907522.0,\n",
       " 93049449.0,\n",
       " 91702634.0,\n",
       " 91993512.0,\n",
       " 89967799.0]"
      ]
     },
     "execution_count": 33,
     "metadata": {},
     "output_type": "execute_result"
    }
   ],
   "source": [
    "objectives"
   ]
  },
  {
   "cell_type": "code",
   "execution_count": 36,
   "metadata": {},
   "outputs": [
    {
     "data": {
      "text/plain": [
       "88022099.0"
      ]
     },
     "execution_count": 36,
     "metadata": {},
     "output_type": "execute_result"
    }
   ],
   "source": [
    "objectives[37]"
   ]
  },
  {
   "cell_type": "code",
   "execution_count": null,
   "metadata": {},
   "outputs": [],
   "source": []
  }
 ],
 "metadata": {
  "kernelspec": {
   "display_name": "Python 3",
   "language": "python",
   "name": "python3"
  },
  "language_info": {
   "codemirror_mode": {
    "name": "ipython",
    "version": 3
   },
   "file_extension": ".py",
   "mimetype": "text/x-python",
   "name": "python",
   "nbconvert_exporter": "python",
   "pygments_lexer": "ipython3",
   "version": "3.7.7"
  }
 },
 "nbformat": 4,
 "nbformat_minor": 4
}
